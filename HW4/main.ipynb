{
 "cells": [
  {
   "cell_type": "markdown",
   "metadata": {},
   "source": [
    "# Image Restoration and Reconstruction\n",
    "\n",
    "This notebook presents a series of exercises focused on **image restoration and reconstruction** techniques. The main objective is to explore and implement various methods to enhance degraded images in different contexts. Each section addresses a specific real-world application of image processing.\n",
    "\n",
    "## Contents:\n",
    "1. **Noise Reduction in Satellite Imagery**  \n",
    "   In this part, we aim to reduce noise commonly found in satellite images using filtering and denoising techniques.\n",
    "\n",
    "2. **Deblurring in Medical Imaging**  \n",
    "   This section focuses on restoring sharpness in blurred medical images, which is crucial for accurate diagnosis and analysis.\n",
    "\n",
    "3. **Image Restoration Under Fog**  \n",
    "   Here, we implement algorithms to restore images affected by fog or haze, improving their visibility and contrast.\n",
    "\n",
    "Throughout the notebook, Python-based image processing techniques will be applied to demonstrate the practical aspects of each restoration challenge.\n"
   ]
  },
  {
   "cell_type": "markdown",
   "metadata": {},
   "source": [
    "## Question number 2: Noise Reduction in Satellite Imagery"
   ]
  },
  {
   "cell_type": "markdown",
   "metadata": {},
   "source": [
    "### Part a"
   ]
  },
  {
   "cell_type": "code",
   "execution_count": null,
   "metadata": {},
   "outputs": [],
   "source": [
    "import cv2\n",
    "import numpy as np\n",
    "from matplotlib import pyplot as plt\n",
    "\n",
    "# Load grayscale image\n",
    "img = cv2.imread('satellite_image.jpg', cv2.IMREAD_GRAYSCALE)\n",
    "\n",
    "# Mean filter\n",
    "mean = cv2.blur(img, (5, 5))\n",
    "\n",
    "# Median filter\n",
    "median = cv2.medianBlur(img, 5)\n",
    "\n",
    "# Gaussian filter\n",
    "gaussian = cv2.GaussianBlur(img, (5, 5), 0)\n",
    "\n",
    "# Display images\n",
    "titles = ['Original', 'Mean', 'Median', 'Gaussian']\n",
    "images = [img, mean, median, gaussian]\n",
    "\n",
    "for i in range(4):\n",
    "    plt.subplot(2, 2, i+1), plt.imshow(images[i], cmap='gray')\n",
    "    plt.title(titles[i])\n",
    "    plt.xticks([]), plt.yticks([])\n",
    "plt.tight_layout()\n",
    "plt.show()\n"
   ]
  },
  {
   "cell_type": "code",
   "execution_count": 1,
   "metadata": {},
   "outputs": [],
   "source": [
    "import numpy as np\n",
    "import cv2\n",
    "import matplotlib.pyplot as plt"
   ]
  },
  {
   "cell_type": "code",
   "execution_count": 2,
   "metadata": {},
   "outputs": [],
   "source": [
    "# Load image\n",
    "img_path = '/mnt/e/Term 4/HW/HW4/DIP-HW4/HW4/images/q2/Mars.png'\n",
    "img = cv2.imread(img_path, cv2.IMREAD_GRAYSCALE)"
   ]
  },
  {
   "cell_type": "code",
   "execution_count": 10,
   "metadata": {},
   "outputs": [],
   "source": [
    "# Apply noise reduction filters (Mean, Median, and Gaussian)\n",
    "# Mean filter\n",
    "mean = cv2.blur(img, ksize=(3, 3))\n",
    "\n",
    "# Median filter\n",
    "median = cv2.medianBlur(img, ksize=3)\n",
    "\n",
    "# Gaussian filter\n",
    "gaussian = cv2.GaussianBlur(img, ksize=(3, 3), sigmaX=0)"
   ]
  },
  {
   "cell_type": "code",
   "execution_count": null,
   "metadata": {},
   "outputs": [],
   "source": []
  }
 ],
 "metadata": {
  "kernelspec": {
   "display_name": "py312",
   "language": "python",
   "name": "python3"
  },
  "language_info": {
   "codemirror_mode": {
    "name": "ipython",
    "version": 3
   },
   "file_extension": ".py",
   "mimetype": "text/x-python",
   "name": "python",
   "nbconvert_exporter": "python",
   "pygments_lexer": "ipython3",
   "version": "3.12.0"
  }
 },
 "nbformat": 4,
 "nbformat_minor": 2
}
